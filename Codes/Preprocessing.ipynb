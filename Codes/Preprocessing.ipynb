{
 "cells": [
  {
   "cell_type": "markdown",
   "id": "20265a62",
   "metadata": {},
   "source": [
    "# Preprocessing of Morphological Data"
   ]
  },
  {
   "cell_type": "code",
   "execution_count": 30,
   "id": "8357e8fa",
   "metadata": {},
   "outputs": [],
   "source": [
    "import numpy as np\n",
    "import pandas as pd\n",
    "import joblib\n",
    "from sklearn import preprocessing\n"
   ]
  },
  {
   "cell_type": "code",
   "execution_count": 31,
   "id": "a0b18e0b",
   "metadata": {},
   "outputs": [],
   "source": [
    "DF=pd.read_csv('\\\\path to raw morphological csv\\\\')\n",
    "#read in the dataframe with the excels\n",
    "\n",
    "morpho_params=[''] # list of morpholgoical parameters of interest, this will be datatype specific, we selected our values from a\n",
    "#primary factor analysis, for an example use belo\n",
    "\n",
    "#\n",
    "#Parameter_Excel=pd.read_excel('\\\\path to filtered morphological parameters csv\\\\')\n",
    "#morpho_params=communalities_sort['Parameter'].to_list()\n",
    "\n",
    "\n",
    "working_data=DF[morpho_params] #filter out morphological parameters of interest"
   ]
  },
  {
   "cell_type": "code",
   "execution_count": 32,
   "id": "c1f34a74",
   "metadata": {},
   "outputs": [],
   "source": [
    "# now we will log normalize the data prior to standard scaling\n",
    "log_data=np.log10(working_data)\n",
    "#now we will train a standard scaler, normalizing data from -1,1. We will transform the data\n",
    "sc_X = preprocessing.StandardScaler() # import the standard scaler\n",
    "preprocessed_data = sc_X .fit_transform(log_data) #standard scale fit transform \n"
   ]
  },
  {
   "cell_type": "code",
   "execution_count": 33,
   "id": "6df03c5d",
   "metadata": {},
   "outputs": [],
   "source": [
    "# now we will save the standard scaled model\n",
    "joblib.dump(sc_X, '//path to save standard scale model//'')\n",
    "\n",
    "#drop morpho parameters from original dataframe\n",
    "DF.drop(morpho_params,axis=1, inplace=True)\n",
    "#recreate morphological dataframe from the preprocessed data\n",
    "preprocessed_data_DF = pd.DataFrame(preprocessed_data, columns=morpho_params)\n",
    "\n",
    "Preprocessed_Dataframe_Final=pd.concat([DF,preprocessed_data_DF],axis=1)"
   ]
  },
  {
   "cell_type": "code",
   "execution_count": null,
   "id": "d353deef",
   "metadata": {},
   "outputs": [],
   "source": [
    "# now we will save the dataframe with the adjusted, logged, standard scaled ata\n",
    "Preprocessed_Dataframe_Final.to_csv('//path to csv//')"
   ]
  },
  {
   "cell_type": "code",
   "execution_count": null,
   "id": "eea883d3",
   "metadata": {},
   "outputs": [],
   "source": []
  }
 ],
 "metadata": {
  "hide_input": false,
  "kernelspec": {
   "display_name": "Python 3 (ipykernel)",
   "language": "python",
   "name": "python3"
  },
  "language_info": {
   "codemirror_mode": {
    "name": "ipython",
    "version": 3
   },
   "file_extension": ".py",
   "mimetype": "text/x-python",
   "name": "python",
   "nbconvert_exporter": "python",
   "pygments_lexer": "ipython3",
   "version": "3.9.13"
  }
 },
 "nbformat": 4,
 "nbformat_minor": 5
}
