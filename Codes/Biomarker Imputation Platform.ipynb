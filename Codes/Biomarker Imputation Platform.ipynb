{
 "cells": [
  {
   "cell_type": "markdown",
   "id": "ae898de5",
   "metadata": {},
   "source": [
    "# RECOMBAT BATCH Correction"
   ]
  },
  {
   "cell_type": "markdown",
   "id": "eb253c21",
   "metadata": {},
   "source": [
    "Either ReCombat or Z-score compared to control were used to compare data across biological repeats. This workflow will show the ReCombat algorithm across conditions across biological repeats. This run assumes no ground truth run, but that can be adjusted for in the ReCombat source code. Batch correction (and Z-score comparisons) works best on gaussian distributions, so we performed log transformations on biomarker expressions. This code will walk through batch correction for p16 expression for young control for two biorepeats (note for the paper we performed a two-axis correction as we had p21 costained with one of the remaining four biomarkers."
   ]
  },
  {
   "cell_type": "code",
   "execution_count": null,
   "id": "a3523355",
   "metadata": {},
   "outputs": [],
   "source": [
    "import numpy as np\n",
    "import pandas as pd\n",
    "import os\n",
    "from glob import glob\n",
    "from reComBat import reComBat\n",
    "import matplotlib.pyplot as plt\n",
    "import seaborn as sns \n",
    "from sklearn import preprocessing"
   ]
  },
  {
   "cell_type": "markdown",
   "id": "8d95ebe2",
   "metadata": {},
   "source": [
    "# Preprocessing "
   ]
  },
  {
   "cell_type": "code",
   "execution_count": null,
   "id": "03f80583",
   "metadata": {},
   "outputs": [],
   "source": [
    "data=pd.read_csv('\\\\path to Batch correction csv\\\\') # read in the dataframe\n",
    "\n",
    "data['P16_Logged']=np.log10(data['P16_2'])#log transforming and smoothing distribution of P16\n",
    "data['Batch_Corrected']=[]\n",
    "BATCH_1 = data.filter(like = 'Bio1', axis=0) # filter out Biorepeat 1\n",
    "BATCH_2 = data.filter(like = 'Bio2', axis=0) # filter our Biorepeat 2"
   ]
  },
  {
   "cell_type": "markdown",
   "id": "29ce434b",
   "metadata": {},
   "source": [
    "# Now lets Perform the Batch Correction?"
   ]
  },
  {
   "cell_type": "code",
   "execution_count": 7,
   "id": "70d9e836",
   "metadata": {},
   "outputs": [],
   "source": [
    "def re_pycombat_application(data,BATCH_1,BATCH_2, biomarker, condition): #datasetm, \n",
    "        # first we need to only keep the cells in eatch batch that match the cell condition, and express the biomarker\n",
    "        # first we transfor the first biomarker\n",
    "        B1=BATCH_1.dropna(subset=[biomarker]); # only keep cells expresing the biomarker\n",
    "        B1=B1[B1['label']==condition]; # keep cells matching the condition, in this case young control\n",
    "        B1=B1[[biomarker]].T # transpose the matrix so it can be used by the reCombat algorithm\n",
    "              \n",
    "        #perform the same for the second biorepeat\n",
    "        B2=BATCH_2.dropna(subset=[biomarker]); # only keep cells expresing the biomarker\n",
    "        B2=B2[B2['label']==condition]; # keep cells matching the condition, in this case young control\n",
    "        B2=B2[[biomarker]].T # transpose the matrix so it can be used by the reCombat algorithm             \n",
    "              \n",
    "        #transform so now it is conducive to the reCombat Batch Correction\n",
    "        df_expression = pd.concat([B1,B2],join=\"inner\",axis=1).astype('float64').T # so we can do math\n",
    "        #initialize bathch and datasets\n",
    "        batch=[]\n",
    "        datasets=[B1,B2]\n",
    "        for j in range(len(datasets)): # here we will ascribe batch numbers to each cell in \n",
    "            batch.extend([j for _ in range(len(datasets[j].columns))])\n",
    "        \n",
    "              \n",
    "        batch=pd.Series(batch)\n",
    "        combat = reComBat(verbose=False)\n",
    "        combat.fit(df_expression,batch) #fir the combat model on the expression datasheet with the corresponding batch numbers\n",
    "        \n",
    "              \n",
    "              \n",
    "        df_corrected = combat.transform(df_expression,batch) # get a new excel with the transformed expression\n",
    "        df_corrected.columns=['Batch_Corrected']  \n",
    "        for idx, row in df_corrected.iterrows(): # add the corrected expression to the original datasheet\n",
    "              data.loc[idx,'Batch_Corrected']=row['Batch_Corrected']\n",
    "              \n",
    "              \n",
    "        return data\n",
    "              \n",
    "              \n",
    "              "
   ]
  },
  {
   "cell_type": "code",
   "execution_count": null,
   "id": "fbe866cf",
   "metadata": {},
   "outputs": [],
   "source": [
    "data_corrected=re_pycombat_application(data,BATCH_1, BATCH_2, 'P16_Logged', 'Young Control' ) # run the code"
   ]
  }
 ],
 "metadata": {
  "hide_input": false,
  "kernelspec": {
   "display_name": "Python 3 (ipykernel)",
   "language": "python",
   "name": "python3"
  },
  "language_info": {
   "codemirror_mode": {
    "name": "ipython",
    "version": 3
   },
   "file_extension": ".py",
   "mimetype": "text/x-python",
   "name": "python",
   "nbconvert_exporter": "python",
   "pygments_lexer": "ipython3",
   "version": "3.9.13"
  }
 },
 "nbformat": 4,
 "nbformat_minor": 5
}
