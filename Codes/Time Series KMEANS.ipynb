{
 "cells": [
  {
   "cell_type": "markdown",
   "id": "8a325b29",
   "metadata": {},
   "source": [
    "# Time series KMEANS Code"
   ]
  },
  {
   "cell_type": "markdown",
   "id": "f7efac80",
   "metadata": {},
   "source": [
    "Below is the code from trajectories array to derive time series KMEANS, for three cluster"
   ]
  },
  {
   "cell_type": "code",
   "execution_count": null,
   "id": "2a58a111",
   "metadata": {},
   "outputs": [],
   "source": [
    "import numpy as np\n",
    "import pandas as pd\n",
    "import umap\n",
    "import joblib\n",
    "from sklearn.cluster import KMeans\n",
    "from sklearn.metrics import silhouette_score\n",
    "import seaborn as sns\n",
    "import matplotlib.pyplot as pl\n",
    "from tslearn.clustering import TimeSeriesKMeans\n"
   ]
  },
  {
   "cell_type": "code",
   "execution_count": null,
   "id": "290675c9",
   "metadata": {},
   "outputs": [],
   "source": [
    "trajectories_arr=pd.read_csv('\\\\Path to trajectories array csv\\\\') #read in dataframe of arrays specific to each subtype"
   ]
  },
  {
   "cell_type": "code",
   "execution_count": null,
   "id": "8bf6edd0",
   "metadata": {},
   "outputs": [],
   "source": [
    "tskm = TimeSeriesKMeans(n_clusters=3, metric='softdtw', random_state=0, verbose=True, max_iter=100)# load in and train model , make unique for\n",
    "tskmeans_predicted = tskm.fit_predict(trajectories_arr)\n",
    "tskm_cluster_center = tskm.cluster_centers_"
   ]
  }
 ],
 "metadata": {
  "hide_input": false,
  "kernelspec": {
   "display_name": "Python 3 (ipykernel)",
   "language": "python",
   "name": "python3"
  },
  "language_info": {
   "codemirror_mode": {
    "name": "ipython",
    "version": 3
   },
   "file_extension": ".py",
   "mimetype": "text/x-python",
   "name": "python",
   "nbconvert_exporter": "python",
   "pygments_lexer": "ipython3",
   "version": "3.9.13"
  }
 },
 "nbformat": 4,
 "nbformat_minor": 5
}
